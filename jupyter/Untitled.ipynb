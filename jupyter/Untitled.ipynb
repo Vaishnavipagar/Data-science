{
 "cells": [
  {
   "cell_type": "code",
   "execution_count": null,
   "id": "bf5ba1ad-d2da-41d1-9e92-f88b03d71b88",
   "metadata": {},
   "outputs": [],
   "source": []
  }
 ],
 "metadata": {
  "kernelspec": {
   "display_name": "",
   "name": ""
  },
  "language_info": {
   "name": ""
  }
 },
 "nbformat": 4,
 "nbformat_minor": 5
}
