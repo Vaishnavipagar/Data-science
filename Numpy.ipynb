{
 "cells": [
  {
   "cell_type": "markdown",
   "id": "cf7b20a4-9819-49dc-84b7-1b20df9da27a",
   "metadata": {},
   "source": [
    "# Numpy\n"
   ]
  },
  {
   "cell_type": "markdown",
   "id": "82c68246-7d4f-4712-999c-0dfa4a4a28f9",
   "metadata": {},
   "source": [
    "# NumPy is a Python library\n",
    "\n",
    "# NumPy is used for working with arrays\n",
    "\n",
    "# NumPy is short for Numerical Python"
   ]
  },
  {
   "cell_type": "code",
   "execution_count": 121,
   "id": "5e973d17-be09-48a2-bbaa-6a29955d481e",
   "metadata": {},
   "outputs": [],
   "source": [
    "# Numpy \n",
    "import numpy as np\n"
   ]
  },
  {
   "cell_type": "code",
   "execution_count": 122,
   "id": "5ecde92a-9ba0-478a-8f39-4b61c9d5b12b",
   "metadata": {},
   "outputs": [
    {
     "data": {
      "text/plain": [
       "2"
      ]
     },
     "execution_count": 122,
     "metadata": {},
     "output_type": "execute_result"
    }
   ],
   "source": [
    "1+1"
   ]
  },
  {
   "cell_type": "code",
   "execution_count": 123,
   "id": "764a6f06-a49c-40fa-a54f-763b2983d0f5",
   "metadata": {},
   "outputs": [],
   "source": [
    "lst=[1,2,3,4]\n",
    "arr=np.array(lst)"
   ]
  },
  {
   "cell_type": "code",
   "execution_count": 124,
   "id": "d2714d28-7e3f-43f8-980c-586a1e402ef4",
   "metadata": {},
   "outputs": [
    {
     "data": {
      "text/plain": [
       "array([1, 2, 3, 4])"
      ]
     },
     "execution_count": 124,
     "metadata": {},
     "output_type": "execute_result"
    }
   ],
   "source": [
    "arr"
   ]
  },
  {
   "cell_type": "code",
   "execution_count": 125,
   "id": "b717b29a-de3a-4da4-bfaf-45c1965878b8",
   "metadata": {},
   "outputs": [
    {
     "data": {
      "text/plain": [
       "numpy.ndarray"
      ]
     },
     "execution_count": 125,
     "metadata": {},
     "output_type": "execute_result"
    }
   ],
   "source": [
    "type(arr)"
   ]
  },
  {
   "cell_type": "code",
   "execution_count": 126,
   "id": "eccb25ad-f5ae-4a6c-a226-28a6315aa907",
   "metadata": {},
   "outputs": [
    {
     "data": {
      "text/plain": [
       "(4,)"
      ]
     },
     "execution_count": 126,
     "metadata": {},
     "output_type": "execute_result"
    }
   ],
   "source": [
    "arr.shape"
   ]
  },
  {
   "cell_type": "code",
   "execution_count": 127,
   "id": "df5cbdae-7fed-4363-8e5d-38ee0ed6340d",
   "metadata": {},
   "outputs": [],
   "source": [
    "arr1=np.array([[1,2,3],[4,5,6]])"
   ]
  },
  {
   "cell_type": "code",
   "execution_count": 128,
   "id": "ab695867-0848-4eaf-8dc9-0390b1650130",
   "metadata": {},
   "outputs": [
    {
     "data": {
      "text/plain": [
       "array([[1, 2, 3],\n",
       "       [4, 5, 6]])"
      ]
     },
     "execution_count": 128,
     "metadata": {},
     "output_type": "execute_result"
    }
   ],
   "source": [
    "arr1"
   ]
  },
  {
   "cell_type": "code",
   "execution_count": 129,
   "id": "96c5e270-2f3c-4355-89ee-c599db732baf",
   "metadata": {},
   "outputs": [
    {
     "data": {
      "text/plain": [
       "(2, 3)"
      ]
     },
     "execution_count": 129,
     "metadata": {},
     "output_type": "execute_result"
    }
   ],
   "source": [
    "# 2 dimension\n",
    "arr1.shape"
   ]
  },
  {
   "cell_type": "code",
   "execution_count": 130,
   "id": "d34cf2fa-4d1a-46f2-8b66-3ff0fc77c800",
   "metadata": {},
   "outputs": [
    {
     "data": {
      "text/plain": [
       "array([[1, 2, 3, 4, 5, 6]])"
      ]
     },
     "execution_count": 130,
     "metadata": {},
     "output_type": "execute_result"
    }
   ],
   "source": [
    "arr1.reshape(1,6)"
   ]
  },
  {
   "cell_type": "code",
   "execution_count": 131,
   "id": "5eaff4f7-8b03-4dba-a6e1-ff60f9e9aadc",
   "metadata": {},
   "outputs": [
    {
     "data": {
      "text/plain": [
       "array([[1],\n",
       "       [2],\n",
       "       [3],\n",
       "       [4],\n",
       "       [5],\n",
       "       [6]])"
      ]
     },
     "execution_count": 131,
     "metadata": {},
     "output_type": "execute_result"
    }
   ],
   "source": [
    "arr1.reshape(6,1)"
   ]
  },
  {
   "cell_type": "code",
   "execution_count": 132,
   "id": "86f184d8-acb7-483a-9e9c-63a15837689c",
   "metadata": {},
   "outputs": [
    {
     "data": {
      "text/plain": [
       "array([1, 2, 3, 4])"
      ]
     },
     "execution_count": 132,
     "metadata": {},
     "output_type": "execute_result"
    }
   ],
   "source": [
    "np.array((1,2,3,4))"
   ]
  },
  {
   "cell_type": "code",
   "execution_count": 133,
   "id": "39b78b56-1284-446d-bcdd-415024d95d51",
   "metadata": {},
   "outputs": [
    {
     "data": {
      "text/plain": [
       "array([[1, 2, 3],\n",
       "       [4, 5, 6]])"
      ]
     },
     "execution_count": 133,
     "metadata": {},
     "output_type": "execute_result"
    }
   ],
   "source": [
    "arr1"
   ]
  },
  {
   "cell_type": "code",
   "execution_count": 134,
   "id": "f1387fd0-de69-43de-8040-b7b1dfdeb8fe",
   "metadata": {},
   "outputs": [
    {
     "data": {
      "text/plain": [
       "dtype('int32')"
      ]
     },
     "execution_count": 134,
     "metadata": {},
     "output_type": "execute_result"
    }
   ],
   "source": [
    "arr1.dtype"
   ]
  },
  {
   "cell_type": "code",
   "execution_count": 135,
   "id": "5387e750-f7c5-4933-82d9-bba10d8ed62a",
   "metadata": {},
   "outputs": [
    {
     "data": {
      "text/plain": [
       "(2, 5)"
      ]
     },
     "execution_count": 135,
     "metadata": {},
     "output_type": "execute_result"
    }
   ],
   "source": [
    "np.arange(1,20,2).reshape(2,5).shape"
   ]
  },
  {
   "cell_type": "code",
   "execution_count": 136,
   "id": "4ba9ffad-d6b0-409d-8779-6244afb65b48",
   "metadata": {},
   "outputs": [
    {
     "data": {
      "text/plain": [
       "array([ 1,  3,  5,  7,  9, 11, 13, 15, 17, 19])"
      ]
     },
     "execution_count": 136,
     "metadata": {},
     "output_type": "execute_result"
    }
   ],
   "source": [
    "np.array(range(1,20,2))"
   ]
  },
  {
   "cell_type": "code",
   "execution_count": 137,
   "id": "b935bf63-e342-4dc7-87e9-afa902e9efd1",
   "metadata": {},
   "outputs": [
    {
     "data": {
      "text/plain": [
       "array([50, 48, 46, 44, 42, 40, 38, 36, 34, 32, 30, 28, 26, 24, 22, 20, 18,\n",
       "       16, 14, 12, 10,  8,  6,  4,  2])"
      ]
     },
     "execution_count": 137,
     "metadata": {},
     "output_type": "execute_result"
    }
   ],
   "source": [
    "np.arange(50,1,-2)"
   ]
  },
  {
   "cell_type": "code",
   "execution_count": 138,
   "id": "0592ed75-1331-4799-bb73-63e6ff0470c6",
   "metadata": {},
   "outputs": [
    {
     "data": {
      "text/plain": [
       "array([[ 1.        ,  1.48717949],\n",
       "       [ 1.97435897,  2.46153846],\n",
       "       [ 2.94871795,  3.43589744],\n",
       "       [ 3.92307692,  4.41025641],\n",
       "       [ 4.8974359 ,  5.38461538],\n",
       "       [ 5.87179487,  6.35897436],\n",
       "       [ 6.84615385,  7.33333333],\n",
       "       [ 7.82051282,  8.30769231],\n",
       "       [ 8.79487179,  9.28205128],\n",
       "       [ 9.76923077, 10.25641026],\n",
       "       [10.74358974, 11.23076923],\n",
       "       [11.71794872, 12.20512821],\n",
       "       [12.69230769, 13.17948718],\n",
       "       [13.66666667, 14.15384615],\n",
       "       [14.64102564, 15.12820513],\n",
       "       [15.61538462, 16.1025641 ],\n",
       "       [16.58974359, 17.07692308],\n",
       "       [17.56410256, 18.05128205],\n",
       "       [18.53846154, 19.02564103],\n",
       "       [19.51282051, 20.        ]])"
      ]
     },
     "execution_count": 138,
     "metadata": {},
     "output_type": "execute_result"
    }
   ],
   "source": [
    "np.linspace(1,20,40).reshape(20,2)"
   ]
  },
  {
   "cell_type": "code",
   "execution_count": 139,
   "id": "c0dd8318-726b-469d-867b-a036cf428a18",
   "metadata": {},
   "outputs": [
    {
     "data": {
      "text/plain": [
       "array([0., 0., 0., 0., 0., 0., 0., 0., 0., 0.])"
      ]
     },
     "execution_count": 139,
     "metadata": {},
     "output_type": "execute_result"
    }
   ],
   "source": [
    "np.zeros(10)"
   ]
  },
  {
   "cell_type": "code",
   "execution_count": 140,
   "id": "5dd4d24f-8a5d-41eb-babc-8cd91736ae99",
   "metadata": {},
   "outputs": [
    {
     "data": {
      "text/plain": [
       "array([[0., 0., 0., 0.],\n",
       "       [0., 0., 0., 0.],\n",
       "       [0., 0., 0., 0.]])"
      ]
     },
     "execution_count": 140,
     "metadata": {},
     "output_type": "execute_result"
    }
   ],
   "source": [
    "np.zeros((3,4))"
   ]
  },
  {
   "cell_type": "code",
   "execution_count": 141,
   "id": "8dfd7706-1a2e-4f6c-a9cc-1937a32e0ba2",
   "metadata": {},
   "outputs": [
    {
     "data": {
      "text/plain": [
       "array([[1., 1., 1., 1., 1.],\n",
       "       [1., 1., 1., 1., 1.]])"
      ]
     },
     "execution_count": 141,
     "metadata": {},
     "output_type": "execute_result"
    }
   ],
   "source": [
    "np.ones((2,5))"
   ]
  },
  {
   "cell_type": "code",
   "execution_count": 142,
   "id": "31a7580f-e1b6-4822-957b-14fecf5185ef",
   "metadata": {},
   "outputs": [
    {
     "data": {
      "text/plain": [
       "array([[[1., 1., 1., 1., 1., 1., 1., 1.],\n",
       "        [1., 1., 1., 1., 1., 1., 1., 1.]],\n",
       "\n",
       "       [[1., 1., 1., 1., 1., 1., 1., 1.],\n",
       "        [1., 1., 1., 1., 1., 1., 1., 1.]],\n",
       "\n",
       "       [[1., 1., 1., 1., 1., 1., 1., 1.],\n",
       "        [1., 1., 1., 1., 1., 1., 1., 1.]],\n",
       "\n",
       "       [[1., 1., 1., 1., 1., 1., 1., 1.],\n",
       "        [1., 1., 1., 1., 1., 1., 1., 1.]],\n",
       "\n",
       "       [[1., 1., 1., 1., 1., 1., 1., 1.],\n",
       "        [1., 1., 1., 1., 1., 1., 1., 1.]]])"
      ]
     },
     "execution_count": 142,
     "metadata": {},
     "output_type": "execute_result"
    }
   ],
   "source": [
    "np.ones((5,2,8))"
   ]
  },
  {
   "cell_type": "code",
   "execution_count": 143,
   "id": "0779b56a-b05c-409e-922f-fe4b33f5f66b",
   "metadata": {},
   "outputs": [
    {
     "data": {
      "text/plain": [
       "array([[6., 6., 6., 6., 6.],\n",
       "       [6., 6., 6., 6., 6.],\n",
       "       [6., 6., 6., 6., 6.]])"
      ]
     },
     "execution_count": 143,
     "metadata": {},
     "output_type": "execute_result"
    }
   ],
   "source": [
    "5 + np.ones((3,5))"
   ]
  },
  {
   "cell_type": "code",
   "execution_count": 144,
   "id": "7bc177d4-144f-4692-b1e2-a1945ed67717",
   "metadata": {},
   "outputs": [
    {
     "data": {
      "text/plain": [
       "array([[1., 0., 0.],\n",
       "       [0., 0., 0.],\n",
       "       [0., 1., 0.],\n",
       "       [0., 0., 0.],\n",
       "       [0., 0., 1.],\n",
       "       [0., 0., 0.],\n",
       "       [0., 0., 0.],\n",
       "       [1., 0., 0.],\n",
       "       [0., 0., 0.],\n",
       "       [0., 1., 0.],\n",
       "       [0., 0., 0.],\n",
       "       [0., 0., 1.]])"
      ]
     },
     "execution_count": 144,
     "metadata": {},
     "output_type": "execute_result"
    }
   ],
   "source": [
    "np.eye(6).reshape(12,3)"
   ]
  },
  {
   "cell_type": "code",
   "execution_count": 145,
   "id": "2a79f7c4-ca4d-46bf-86ba-9e9e6a644d9a",
   "metadata": {},
   "outputs": [
    {
     "data": {
      "text/plain": [
       "array([[1., 0., 0., 0.],\n",
       "       [0., 1., 0., 0.],\n",
       "       [0., 0., 1., 0.],\n",
       "       [0., 0., 0., 1.]])"
      ]
     },
     "execution_count": 145,
     "metadata": {},
     "output_type": "execute_result"
    }
   ],
   "source": [
    "np.identity(4)"
   ]
  },
  {
   "cell_type": "code",
   "execution_count": 146,
   "id": "866ffd2b-68b4-4c88-a69b-309d9eee5b40",
   "metadata": {},
   "outputs": [
    {
     "name": "stdout",
     "output_type": "stream",
     "text": [
      "Random number generation(Uniform distribution)\n"
     ]
    },
    {
     "data": {
      "text/plain": [
       "array([[0.15302628, 0.8928956 , 0.79883653],\n",
       "       [0.62931899, 0.1379332 , 0.23381874]])"
      ]
     },
     "execution_count": 146,
     "metadata": {},
     "output_type": "execute_result"
    }
   ],
   "source": [
    "print(\"Random number generation(Uniform distribution)\")\n",
    "np.random.rand(2,3)"
   ]
  },
  {
   "cell_type": "code",
   "execution_count": 147,
   "id": "3d120d4f-4eb3-4932-a97e-2dbedd59e217",
   "metadata": {},
   "outputs": [
    {
     "name": "stdout",
     "output_type": "stream",
     "text": [
      "Random number following a Normal distribtuion with mean=0 and std=1\n",
      "[[ 0.82916121 -0.73925609 -0.92085914]\n",
      " [ 0.198444   -1.29792661 -0.41250802]\n",
      " [ 0.01928685  2.54666605 -0.06343862]\n",
      " [-0.64713634  0.41876677  0.47402472]\n",
      " [-0.56962237 -0.84121939 -0.93233882]]\n"
     ]
    }
   ],
   "source": [
    "print(\"Random number following a Normal distribtuion with mean=0 and std=1\")\n",
    "print(np.random.randn(5,3))"
   ]
  },
  {
   "cell_type": "code",
   "execution_count": 148,
   "id": "dfb6592d-3a4d-428b-ac03-aa8148c07585",
   "metadata": {},
   "outputs": [
    {
     "data": {
      "text/plain": [
       "array([ 5, 26, 97, 95,  1, 47, 24, 76, 10, 13, 99, 24, 35, 79, 88, 21, 59,\n",
       "       47, 13, 71, 77, 76, 30, 49, 85, 94, 49, 33, 33, 92, 47, 64, 70, 61,\n",
       "        4, 94, 27, 82, 68, 35, 14, 40, 17, 86, 65, 15, 89, 15, 98,  6])"
      ]
     },
     "execution_count": 148,
     "metadata": {},
     "output_type": "execute_result"
    }
   ],
   "source": [
    "np.random.randint(1,100,50)"
   ]
  },
  {
   "cell_type": "code",
   "execution_count": 149,
   "id": "68d70b76-f9ee-430f-92f5-7c25260f7bfb",
   "metadata": {},
   "outputs": [
    {
     "data": {
      "text/plain": [
       "array([[30, 84, 99, 24],\n",
       "       [35, 38, 98, 14],\n",
       "       [28, 30, 14, 21],\n",
       "       [61, 49, 70,  4]])"
      ]
     },
     "execution_count": 149,
     "metadata": {},
     "output_type": "execute_result"
    }
   ],
   "source": [
    "np.random.randint(1,100,(4,4))"
   ]
  },
  {
   "cell_type": "code",
   "execution_count": 150,
   "id": "f4d105c4-0535-412c-822c-2f446ddff413",
   "metadata": {},
   "outputs": [],
   "source": [
    "arr=np.arange(0,11)"
   ]
  },
  {
   "cell_type": "code",
   "execution_count": 151,
   "id": "166f0a78-ad74-4e53-94fe-19bcaeded203",
   "metadata": {},
   "outputs": [
    {
     "data": {
      "text/plain": [
       "array([ 0,  1,  2,  3,  4,  5,  6,  7,  8,  9, 10])"
      ]
     },
     "execution_count": 151,
     "metadata": {},
     "output_type": "execute_result"
    }
   ],
   "source": [
    "arr"
   ]
  },
  {
   "cell_type": "code",
   "execution_count": 152,
   "id": "13fd6992-b1dc-45b8-b72e-81a5fb7159a7",
   "metadata": {},
   "outputs": [
    {
     "data": {
      "text/plain": [
       "array([2, 5])"
      ]
     },
     "execution_count": 152,
     "metadata": {},
     "output_type": "execute_result"
    }
   ],
   "source": [
    "## Slicing\n",
    "\n",
    "arr[2:7:3]"
   ]
  },
  {
   "cell_type": "code",
   "execution_count": 153,
   "id": "ead049ac-6592-41ca-81e0-6be571e656b1",
   "metadata": {},
   "outputs": [
    {
     "data": {
      "text/plain": [
       "array([10,  9,  8])"
      ]
     },
     "execution_count": 153,
     "metadata": {},
     "output_type": "execute_result"
    }
   ],
   "source": [
    "arr[-1:7:-1]"
   ]
  },
  {
   "cell_type": "code",
   "execution_count": 154,
   "id": "9b1e926c-3b9b-4f99-99a5-0c7c590de2bd",
   "metadata": {},
   "outputs": [
    {
     "data": {
      "text/plain": [
       "array([10,  9,  8,  7,  6,  5,  4])"
      ]
     },
     "execution_count": 154,
     "metadata": {},
     "output_type": "execute_result"
    }
   ],
   "source": [
    "arr[-1:3:-1]"
   ]
  },
  {
   "cell_type": "code",
   "execution_count": 155,
   "id": "2dec71fe-2395-40fc-9eba-306e8391369d",
   "metadata": {},
   "outputs": [],
   "source": [
    "arr1=np.random.randint(2,100,20).reshape(5,4)"
   ]
  },
  {
   "cell_type": "code",
   "execution_count": 156,
   "id": "74fb15e0-5914-40b8-81db-29fdfc4ba752",
   "metadata": {},
   "outputs": [
    {
     "data": {
      "text/plain": [
       "array([[36, 84,  2, 59],\n",
       "       [93, 47, 72, 54],\n",
       "       [43, 21,  4, 28],\n",
       "       [72, 58, 20, 96],\n",
       "       [51,  3,  5, 10]])"
      ]
     },
     "execution_count": 156,
     "metadata": {},
     "output_type": "execute_result"
    }
   ],
   "source": [
    "arr1"
   ]
  },
  {
   "cell_type": "code",
   "execution_count": 157,
   "id": "d92f71d6-f40d-4ab4-9a49-b5095e5cf5f5",
   "metadata": {},
   "outputs": [
    {
     "data": {
      "text/plain": [
       "array([[58, 20, 96],\n",
       "       [ 3,  5, 10]])"
      ]
     },
     "execution_count": 157,
     "metadata": {},
     "output_type": "execute_result"
    }
   ],
   "source": [
    "arr1[3:,1:]"
   ]
  },
  {
   "cell_type": "code",
   "execution_count": 158,
   "id": "b2500360-f740-4677-929b-fdcb54a2258e",
   "metadata": {},
   "outputs": [
    {
     "data": {
      "text/plain": [
       "array([[36, 84,  2],\n",
       "       [93, 47, 72],\n",
       "       [43, 21,  4]])"
      ]
     },
     "execution_count": 158,
     "metadata": {},
     "output_type": "execute_result"
    }
   ],
   "source": [
    "arr1[0:3,0:3]"
   ]
  },
  {
   "cell_type": "code",
   "execution_count": 159,
   "id": "2776c0a0-2b8b-4c71-a44e-2ed1c9c31b26",
   "metadata": {},
   "outputs": [
    {
     "data": {
      "text/plain": [
       "array([[21,  4],\n",
       "       [58, 20]])"
      ]
     },
     "execution_count": 159,
     "metadata": {},
     "output_type": "execute_result"
    }
   ],
   "source": [
    "arr1[-3:-1,-3:-1]\n",
    "\n"
   ]
  },
  {
   "cell_type": "code",
   "execution_count": 160,
   "id": "26600d36-f539-49d9-a6c0-e033e9bd2781",
   "metadata": {},
   "outputs": [],
   "source": [
    "## universal functions\n",
    "\n",
    "arr1=np.random.randint(1,100,(3,3))\n",
    "arr2=np.random.randint(20,100,(3,3))"
   ]
  },
  {
   "cell_type": "code",
   "execution_count": 161,
   "id": "dcf237bc-ffcd-4d1d-98f3-5d929c047d07",
   "metadata": {},
   "outputs": [
    {
     "data": {
      "text/plain": [
       "array([[85, 72, 70],\n",
       "       [95, 59,  4],\n",
       "       [20, 74, 28]])"
      ]
     },
     "execution_count": 161,
     "metadata": {},
     "output_type": "execute_result"
    }
   ],
   "source": [
    "arr1"
   ]
  },
  {
   "cell_type": "code",
   "execution_count": 162,
   "id": "42ed011b-e445-4349-bd36-b3c41b4515cc",
   "metadata": {},
   "outputs": [
    {
     "data": {
      "text/plain": [
       "array([[78, 87, 23],\n",
       "       [33, 48, 47],\n",
       "       [49, 41, 81]])"
      ]
     },
     "execution_count": 162,
     "metadata": {},
     "output_type": "execute_result"
    }
   ],
   "source": [
    "arr2"
   ]
  },
  {
   "cell_type": "code",
   "execution_count": 163,
   "id": "a194eacd-b3dc-4ed5-9710-df454976593f",
   "metadata": {},
   "outputs": [
    {
     "data": {
      "text/plain": [
       "array([[163, 159,  93],\n",
       "       [128, 107,  51],\n",
       "       [ 69, 115, 109]])"
      ]
     },
     "execution_count": 163,
     "metadata": {},
     "output_type": "execute_result"
    }
   ],
   "source": [
    "arr1+arr2"
   ]
  },
  {
   "cell_type": "code",
   "execution_count": 164,
   "id": "d963d879-b468-44fb-a2e4-27adb3cee07a",
   "metadata": {},
   "outputs": [
    {
     "data": {
      "text/plain": [
       "array([[6630, 6264, 1610],\n",
       "       [3135, 2832,  188],\n",
       "       [ 980, 3034, 2268]])"
      ]
     },
     "execution_count": 164,
     "metadata": {},
     "output_type": "execute_result"
    }
   ],
   "source": [
    "arr1 *arr2"
   ]
  },
  {
   "cell_type": "code",
   "execution_count": 165,
   "id": "a5520657-41e4-4803-b2cc-e7117d9b2690",
   "metadata": {},
   "outputs": [
    {
     "data": {
      "text/plain": [
       "array([[1.08974359, 0.82758621, 3.04347826],\n",
       "       [2.87878788, 1.22916667, 0.08510638],\n",
       "       [0.40816327, 1.80487805, 0.34567901]])"
      ]
     },
     "execution_count": 165,
     "metadata": {},
     "output_type": "execute_result"
    }
   ],
   "source": [
    "arr1 / arr2"
   ]
  },
  {
   "cell_type": "code",
   "execution_count": 166,
   "id": "1b3e226f-6790-4acf-8235-9b8047275a31",
   "metadata": {},
   "outputs": [
    {
     "data": {
      "text/plain": [
       "array([[9.21954446, 8.48528137, 8.36660027],\n",
       "       [9.74679434, 7.68114575, 2.        ],\n",
       "       [4.47213595, 8.60232527, 5.29150262]])"
      ]
     },
     "execution_count": 166,
     "metadata": {},
     "output_type": "execute_result"
    }
   ],
   "source": [
    "np.sqrt(arr1)"
   ]
  },
  {
   "cell_type": "code",
   "execution_count": 167,
   "id": "18feb058-4de0-4a68-98de-9f91540d7496",
   "metadata": {},
   "outputs": [
    {
     "data": {
      "text/plain": [
       "array([[7.49841700e+33, 6.07603023e+37, 9.74480345e+09],\n",
       "       [2.14643580e+14, 7.01673591e+20, 2.58131289e+20],\n",
       "       [1.90734657e+21, 6.39843494e+17, 1.50609731e+35]])"
      ]
     },
     "execution_count": 167,
     "metadata": {},
     "output_type": "execute_result"
    }
   ],
   "source": [
    "np.exp(arr2)"
   ]
  },
  {
   "cell_type": "code",
   "execution_count": 168,
   "id": "0a5b7463-1d94-42a4-b6a7-e2bed5e991db",
   "metadata": {},
   "outputs": [
    {
     "data": {
      "text/plain": [
       "array([[1.92941893, 1.8573325 , 1.84509804],\n",
       "       [1.97772361, 1.77085201, 0.60205999],\n",
       "       [1.30103   , 1.86923172, 1.44715803]])"
      ]
     },
     "execution_count": 168,
     "metadata": {},
     "output_type": "execute_result"
    }
   ],
   "source": [
    "np.log10(arr1)"
   ]
  },
  {
   "cell_type": "code",
   "execution_count": 232,
   "id": "5aa1af5a-6f72-4df9-a51d-7d3f8aa921b4",
   "metadata": {},
   "outputs": [],
   "source": [
    "arr1=np.arange(1,10)"
   ]
  },
  {
   "cell_type": "code",
   "execution_count": 234,
   "id": "db0e2a43-d40f-40c2-92ad-35745e2759bc",
   "metadata": {},
   "outputs": [],
   "source": [
    "arr1[2:]=1000"
   ]
  },
  {
   "cell_type": "code",
   "execution_count": 171,
   "id": "5c8219d1-5e3a-4b0e-b129-e87a0ba38cd6",
   "metadata": {},
   "outputs": [
    {
     "data": {
      "text/plain": [
       "array([   1,    2, 1000, 1000, 1000, 1000, 1000, 1000, 1000])"
      ]
     },
     "execution_count": 171,
     "metadata": {},
     "output_type": "execute_result"
    }
   ],
   "source": [
    "arr1"
   ]
  },
  {
   "cell_type": "code",
   "execution_count": 228,
   "id": "bdaed82a-11d4-4979-bea6-311ad53d1563",
   "metadata": {},
   "outputs": [
    {
     "data": {
      "text/plain": [
       "array([[ 49144,  41183,  81117],\n",
       "       [160000, 176000, 151000],\n",
       "       [160000, 176000, 151000]])"
      ]
     },
     "execution_count": 228,
     "metadata": {},
     "output_type": "execute_result"
    }
   ],
   "source": [
    "arr1 = arr1.reshape(3, 3)\n",
    "np.dot(arr1, arr2)\n"
   ]
  },
  {
   "cell_type": "code",
   "execution_count": 230,
   "id": "68a278e9-be04-4170-8c9f-264bd4738f1d",
   "metadata": {},
   "outputs": [],
   "source": [
    "arr1 = arr1.reshape(3, 3)\n",
    "# arr2 should already be (3, 3)\n",
    "result = np.matmul(arr1, arr2)\n"
   ]
  },
  {
   "cell_type": "code",
   "execution_count": 236,
   "id": "01e8f74d-daa8-41f8-a575-c9442dbd19b7",
   "metadata": {},
   "outputs": [
    {
     "name": "stdout",
     "output_type": "stream",
     "text": [
      "1.26.4\n"
     ]
    }
   ],
   "source": [
    "print(np.__version__)\n"
   ]
  },
  {
   "cell_type": "code",
   "execution_count": null,
   "id": "35768dac-8495-4753-acd4-cadf6abe8512",
   "metadata": {},
   "outputs": [],
   "source": []
  }
 ],
 "metadata": {
  "kernelspec": {
   "display_name": "Python [conda env:base] *",
   "language": "python",
   "name": "conda-base-py"
  },
  "language_info": {
   "codemirror_mode": {
    "name": "ipython",
    "version": 3
   },
   "file_extension": ".py",
   "mimetype": "text/x-python",
   "name": "python",
   "nbconvert_exporter": "python",
   "pygments_lexer": "ipython3",
   "version": "3.12.7"
  }
 },
 "nbformat": 4,
 "nbformat_minor": 5
}
